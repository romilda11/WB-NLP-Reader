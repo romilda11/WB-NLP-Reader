{
 "cells": [
  {
   "cell_type": "code",
   "execution_count": 2,
   "metadata": {},
   "outputs": [],
   "source": [
    "import pandas as pd\n",
    "from collections import Counter\n",
    "cmt = pd.read_excel(r'C:\\\\Users\\romilda\\Desktop\\weibo scrapers\\comments.xlsx') \n",
    "kwm = pd.read_excel(r'C:\\\\Users\\romilda\\Desktop\\weibo scrapers\\keyword_music.xlsx') "
   ]
  },
  {
   "cell_type": "code",
   "execution_count": 7,
   "metadata": {},
   "outputs": [
    {
     "name": "stdout",
     "output_type": "stream",
     "text": [
      "The reviews of 10 weibos:\n",
      "There are 44 reviews for weibo \"https://weibo.cn/comment/GiMkLtNXk?uid=1680313495\"\n",
      "There are 276 reviews for weibo \"https://weibo.cn/comment/GjaiDxYLa?uid=1216431741\"\n",
      "There are 131 reviews for weibo \"https://weibo.cn/comment/GjaiLftnj?uid=1719014980\"\n",
      "There are 248 reviews for weibo \"https://weibo.cn/comment/GjcMEEGP1?uid=1288803057\"\n",
      "There are 298 reviews for weibo \"https://weibo.cn/comment/Gjag13MH2?uid=2482557597\"\n",
      "There are 178 reviews for weibo \"https://weibo.cn/comment/Gjfh0csiR?uid=3207553234\"\n",
      "There are 195 reviews for weibo \"https://weibo.cn/comment/GjbG2tdrq?uid=5995150029\"\n",
      "There are 52 reviews for weibo \"https://weibo.cn/comment/GiUAcayF1?uid=1773436304\"\n",
      "There are 56 reviews for weibo \"https://weibo.cn/comment/GjagBrDI6?uid=6400928327\"\n",
      "There are 275 reviews for weibo \"https://weibo.cn/comment/Gje4zuxye?uid=3854103001\"\n"
     ]
    }
   ],
   "source": [
    "#since there are multiple pages of one weibo, we need to relate the pages to the exact weibos.\n",
    "slink = Counter(cmt['source_link'].astype(str).str[:49])\n",
    "print('The reviews of {} weibos:'.format(len(slink)))\n",
    "for c in slink:\n",
    "    print('There are {} reviews for weibo \"{}\"'.format(slink[c],c))"
   ]
  },
  {
   "cell_type": "code",
   "execution_count": 9,
   "metadata": {},
   "outputs": [],
   "source": [
    "#find the content of the related weibos for further use, not useful for this project\n",
    "cm_dict = {}\n",
    "for c in slink:\n",
    "    for index,row in kwm.iterrows():\n",
    "        if c in row['page_of_comments']:\n",
    "            cm_dict[c] = row['content']"
   ]
  },
  {
   "cell_type": "code",
   "execution_count": 11,
   "metadata": {},
   "outputs": [],
   "source": [
    "# index the comments so that it can be related to weibos\n",
    "ct_index = {}\n",
    "i = 0\n",
    "for c in slink:\n",
    "    ct_index[c] = i\n",
    "    i = i+1\n",
    "cmt['comment_index'] = -1 #initiate a new column filled with -1\n",
    "for index,row in cmt.iterrows():\n",
    "    cmt.loc[index,'comment_index'] = ct_index[row['source_link'][:49]]\n",
    "cmt.to_excel('C:\\\\Users\\\\romilda\\\\Desktop\\\\weibo scrapers\\\\comments_with_index.xlsx',encoding='utf-8-sig',index=False)"
   ]
  },
  {
   "cell_type": "code",
   "execution_count": null,
   "metadata": {},
   "outputs": [],
   "source": []
  },
  {
   "cell_type": "code",
   "execution_count": null,
   "metadata": {},
   "outputs": [],
   "source": []
  }
 ],
 "metadata": {
  "kernelspec": {
   "display_name": "Python 3",
   "language": "python",
   "name": "python3"
  },
  "language_info": {
   "codemirror_mode": {
    "name": "ipython",
    "version": 3
   },
   "file_extension": ".py",
   "mimetype": "text/x-python",
   "name": "python",
   "nbconvert_exporter": "python",
   "pygments_lexer": "ipython3",
   "version": "3.6.6"
  }
 },
 "nbformat": 4,
 "nbformat_minor": 2
}
