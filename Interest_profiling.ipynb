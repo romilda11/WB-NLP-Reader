{
 "cells": [
  {
   "cell_type": "code",
   "execution_count": 6,
   "metadata": {},
   "outputs": [],
   "source": [
    "import pandas as pd\n",
    "import collections\n",
    "import thulac\n",
    "dt = pd.read_excel(r'C:\\Users\\romilda\\Desktop\\weibo scrapers\\keyword_music.xlsx')\n",
    "ct = pd.read_excel(r'C:\\Users\\romilda\\Desktop\\weibo scrapers\\comments_with_index.xlsx')"
   ]
  },
  {
   "cell_type": "code",
   "execution_count": 7,
   "metadata": {},
   "outputs": [],
   "source": [
    "#load stopwords which are mostly special characters, clean it for later use\n",
    "st =  pd.read_excel(r'C:\\Users\\romilda\\Desktop\\weibo scrapers\\stopword.xlsx',header=None)\n",
    "stopword = []\n",
    "colname = st.columns[0]\n",
    "for index,row in st.iterrows():\n",
    "    stopword.append(row[colname].replace('\\xa0',''))"
   ]
  },
  {
   "cell_type": "code",
   "execution_count": 8,
   "metadata": {},
   "outputs": [
    {
     "name": "stdout",
     "output_type": "stream",
     "text": [
      "Model loaded succeed\n"
     ]
    }
   ],
   "source": [
    "ud1 = r'C:\\Users\\romilda\\Desktop\\weibo scrapers\\userdict.txt'#import userdict\n",
    "thu1 = thulac.thulac(user_dict=ud1,seg_only=True)\n",
    "#carry out word segmentation for searching result of 'music'\n",
    "for index,row in dt.iterrows():\n",
    "    temp = thu1.cut(row['content'])\n",
    "    words = '' \n",
    "    for item in temp:\n",
    "        if item[0] not in stopword:\n",
    "            words = words+' '+item[0]\n",
    "        dt.loc[index,'content'] = words[1:]\n",
    "#carry out word segmentation for comments\n",
    "for index,row in ct.iterrows():\n",
    "    temp = thu1.cut(row['content'])\n",
    "    words = '' \n",
    "    for item in temp:\n",
    "        if item[0] not in stopword:\n",
    "            words = words+' '+item[0]\n",
    "        ct.loc[index,'content'] = words[1:]"
   ]
  },
  {
   "cell_type": "code",
   "execution_count": 9,
   "metadata": {},
   "outputs": [],
   "source": [
    "dt.to_excel('C:\\\\Users\\\\romilda\\\\Desktop\\\\weibo scrapers\\\\seg_keyword_music.xlsx',encoding='utf-8-sig',index=False)\n",
    "ct.to_excel('C:\\\\Users\\\\romilda\\\\Desktop\\\\weibo scrapers\\\\seg_comments_with_index.xlsx',encoding='utf-8-sig',index=False)"
   ]
  },
  {
   "cell_type": "code",
   "execution_count": 141,
   "metadata": {},
   "outputs": [],
   "source": [
    "#load the long version of stopwords\n",
    "stf =  pd.read_excel(r'C:\\Users\\romilda\\Desktop\\weibo scrapers\\stopword_full.xlsx',header=None)\n",
    "stopword_f = []\n",
    "colname_f = stf.columns[0]\n",
    "for index,row in stf.iterrows():\n",
    "    stopword_f.append(row[colname].replace('\\xa0',''))\n",
    "    \n",
    "ctt = dt['content'].tolist()\n",
    "words = []\n",
    "for item in ctt:\n",
    "    items = item.split(',')\n",
    "    for x in items:\n",
    "        if x!=' ':\n",
    "            if x not in stopword_f:\n",
    "                words.append(x)\n",
    "freq = collections.Counter(words)"
   ]
  },
  {
   "cell_type": "code",
   "execution_count": 163,
   "metadata": {
    "scrolled": true
   },
   "outputs": [
    {
     "name": "stdout",
     "output_type": "stream",
     "text": [
      "OrderedDict([('鹿晗', 124), ('吴亦凡', 83), ('李宇春', 70), ('李健', 58), ('莫文蔚', 46), ('张杰', 26), ('张碧晨', 22), ('周笔畅', 20), ('五月天', 18), ('SNH48', 17), ('华晨宇', 16), ('BTOB', 15), ('许嵩', 14), ('SHINee', 13), ('汪苏泷', 12), ('李易峰', 10), ('张靓颖', 10), ('蔡依林', 8), ('Henry', 8), ('林海', 7), ('郑容和', 7), ('罗志祥', 6), ('杨丞琳', 6), ('胜利', 6), ('林宥嘉', 5), ('黄龄', 5), ('Rain', 5), ('Beyond', 5), ('苏打绿', 5), ('防弹少年团', 5), ('少女时代', 5), ('朴树', 4), ('王杰', 4), ('胡彦斌', 4), ('谢霆锋', 4), ('胡夏', 4), ('林志炫', 4), ('FLOWER', 4), ('AAA', 4), ('Jessi', 4), ('EXO', 4), ('萧敬腾', 3), ('陈冠希', 3), ('金志文', 3), ('左小祖咒', 3), ('张惠妹', 3), ('王心凌', 3), ('田馥甄', 3), ('李玟', 3), ('房东的猫', 3), ('Gray', 3), ('Jessica', 3), ('AOA', 3), ('乐童音乐家', 3), ('张敬轩', 2), ('古巨基', 2), ('潘玮柏', 2), ('光良', 2), ('梁静茹', 2), ('谭维维', 2), ('张悬', 2), ('范晓萱', 2), ('彭佳慧', 2), ('韩红', 2), ('S.H.E', 2), ('七朵组合', 2), ('郑镒勋', 2), ('秀智', 2), ('GOT7', 2), ('2PM', 2), ('Angel', 2), ('孙燕姿', 2), ('那英', 2), ('权志龙', 2), ('张杰\\xa0', 2), ('王力宏', 1), ('张国荣', 1), ('陶喆', 1), ('方大同', 1), ('汪峰', 1), ('周柏豪', 1), ('李宗盛', 1), ('庾澄庆', 1), ('张赫宣', 1), ('音频怪物', 1), ('小曲儿', 1), ('费玉清', 1), ('A-Lin', 1), ('陈绮贞', 1), ('萧亚轩', 1), ('庄心妍', 1), ('张韶涵', 1), ('徐佳莹', 1), ('HITA', 1), ('陈慧琳', 1), ('赵薇', 1), ('许飞', 1), ('信乐团', 1), ('水木年华', 1), ('农夫', 1), ('Shakira', 1), ('Passenger', 1), ('Blue', 1), ('吴赫', 1), ('Crush', 1), ('Bobby', 1), ('大声', 1), ('Gummy', 1), ('东方神起', 1), ('VIXX', 1), ('B.A.P', 1), ('GFRIEND', 1), ('JYJ', 1), ('DAY6', 1), ('杨宗纬', 1), ('Eminem', 1), ('李健\\xa0', 1), ('BTS', 1), ('宋冬野', 0), ('陈小春', 0), ('马頔', 0), ('周传雄', 0), ('李克勤', 0), ('张信哲', 0), ('刘德华', 0), ('石进', 0), ('张宇', 0), ('谭咏麟', 0), ('尧十三', 0), ('老狼', 0), ('陈百强', 0), ('回音哥', 0), ('赵照', 0), ('陈势安', 0), ('郑中基', 0), ('齐秦', 0), ('河图', 0), ('陈柏宇', 0), ('陈鸿宇', 0), ('麦浚龙', 0), ('周华健', 0), ('MC Hotdog', 0), ('郑伊健', 0), ('伍佰', 0), ('贰佰', 0), ('郑钧', 0), ('戴荃', 0), ('Pianoboy', 0), ('梁汉文', 0), ('孙楠', 0), ('胡歌', 0), ('李玖哲', 0), ('孙子涵', 0), ('阿杜', 0), ('林峯', 0), ('张震岳', 0), ('侧田', 0), ('张智霖', 0), ('eliaqsopa', 0), ('蒋明', 0), ('许志安', 0), ('后弦', 0), ('崔健', 0), ('钟立风', 0), ('胡伟立', 0), ('夏天Alex', 0), ('林子祥', 0), ('迪克牛仔', 0), ('黄渤', 0), ('李圣杰', 0), ('郝云', 0), ('容祖儿', 0), ('刘瑞琦', 0), ('刘思涵', 0), ('Sunshine', 0), ('范玮琪', 0), ('陈洁仪', 0), ('林忆莲', 0), ('邓丽君', 0), ('洛天依', 0), ('薛凯琪', 0), ('戴佩妮', 0), ('花粥', 0), ('刘若英', 0), ('陈慧娴', 0), ('刘惜君', 0), ('曹方', 0), ('王若琳', 0), ('卫兰', 0), ('孙露', 0), ('蔡琴', 0), ('银临', 0), ('阿肆', 0), ('梁咏琪', 0), ('程璧', 0), ('吴雨霏', 0), ('曲婉婷', 0), ('卢巧音', 0), ('许茹芸', 0), ('刘涛', 0), ('温岚', 0), ('郭静', 0), ('邓丽欣', 0), ('燕池', 0), ('阿桑', 0), ('云の泣', 0), ('金莎', 0), ('降央卓玛', 0), ('郁可唯', 0), ('郑秀文', 0), ('姚贝娜', 0), ('黄小琥', 0), ('梅艳芳', 0), ('邵夷贝', 0), ('李佳薇', 0), ('何洁', 0), ('金海心', 0), ('郭采洁', 0), ('叶蒨文', 0), ('梁心颐', 0), ('张芸京', 0), ('李霄云', 0), ('弦子', 0), ('不才', 0), ('郑融', 0), ('严艺丹', 0), ('陈珊妮', 0), ('郑欣宜', 0), ('泳儿', 0), ('吴若希', 0), ('杜婧荧', 0), ('蔡淳佳', 0), ('曾轶可', 0), ('丢火车', 0), ('痛仰乐队', 0), ('Twins', 0), ('筷子兄弟', 0), ('海龟先生', 0), ('有声小说', 0), ('南征北战', 0), ('凤凰传奇', 0), ('旅行团', 0), ('By2', 0), ('万能青年旅店', 0), ('羽·泉', 0), ('大乔小乔', 0), ('草蜢', 0), ('网易游戏', 0), ('my little airport', 0), ('布衣乐队', 0), ('小娟&山谷里的居民', 0), ('霹雳英雄', 0), ('萌萌哒天团', 0), ('风潮唱片', 0), ('天府事变', 0), ('不可撤销', 0), ('新裤子', 0), ('黑豹乐队', 0), ('卡奇社', 0), ('棉花糖', 0), ('英雄联盟', 0), ('反光镜', 0), ('嘻游记', 0), ('二手玫瑰', 0), ('花儿乐队', 0), ('龙井说唱', 0), ('腰乐队', 0), ('至上励合', 0), ('达达', 0), ('张玮玮和郭龙', 0), ('纵贯线', 0), ('黑撒', 0), ('中央人民广播电台少年广播合唱团', 0), ('动力火车', 0), ('谣乐队', 0), ('at17', 0), ('墨明棋妙', 0), ('黑鸭子', 0), ('隔壁团乐队', 0), ('EXO-M', 0), ('顽童MJ116', 0), ('夏天播放', 0), ('Mr.', 0), ('脑浊乐队', 0), ('零点乐队', 0), ('秘密後院', 0), ('低苦艾', 0), ('Robynn & Kendy', 0), ('Hush!', 0), ('武聆音雄', 0), ('青鸟飞鱼', 0), ('达明一派', 0), ('安图声乐队', 0), ('杭盖', 0), ('BOBO', 0), ('F4', 0), ('中国人民解放军军乐团', 0), ('扭曲机器', 0), ('自然卷', 0), ('小虎队', 0), ('阿里郎', 0), ('JS', 0), ('野孩子', 0), ('月之门', 0), ('后海大鲨鱼', 0), ('小紫荆儿童合唱团', 0), ('Six City', 0), ('指南针', 0), ('打扰一下乐团', 0), ('飘乐队', 0), ('左卡', 0), ('中国国家交响乐团', 0), ('男才女貌', 0), ('Soler', 0), ('丝绒公路', 0), ('C-BLOCK', 0), ('Hans Zimmer', 0), ('Sam Smith', 0), ('Pitbull', 0), ('TheFatRat', 0), ('The Weeknd', 0), ('Flo Rida', 0), ('Mark Ronson', 0), ('Calvin Harris', 0), ('Adam Lambert', 0), ('Jason Mraz', 0), ('David Guetta', 0), ('DJ Okawari', 0), ('Chris Medina', 0), ('Michael Jackson', 0), ('Chris Brown', 0), ('James Blunt', 0), ('Martin Garrix', 0), ('Drake', 0), ('Adam Levine', 0), ('Thomas Bergersen', 0), ('Shawn Mendes', 0), ('Maksim Mrvica', 0), ('John Legend', 0), ('will.i.am', 0), ('Steerner', 0), ('Josh Vietti', 0), ('Deorro', 0), ('Kygo', 0), ('Zedd', 0), ('Skrillex', 0), ('David Garrett', 0), ('Axero', 0), ('Pharrell Williams', 0), ('Boyce Avenue', 0), ('Tiësto', 0), ('Troye Sivan', 0), ('Joel Hanson', 0), ('Darin', 0), ('Mark Petrie', 0), ('Richard Clayderman', 0), ('Hardwell', 0), ('MitiS', 0), ('Immediate Music', 0), ('Ramin Djawadi', 0), ('Ne-Yo', 0), ('Usher', 0), ('Greyson Chance', 0), ('Janji', 0), ('Yanni', 0), ('DJ Snake', 0), ('Fetty Wap', 0), ('Shayne Ward', 0), ('Kanye West', 0), ('Jay-Z', 0), ('Enrique Iglesias', 0), ('Jason DeRulo', 0), ('Alesso', 0), ('Shane Filan', 0), ('Dr. Dre', 0), ('Akon', 0), ('Virtual Riot', 0), ('Tamas Wells', 0), ('Armin van Buuren', 0), ('Robbie Williams', 0), ('John Dreamer', 0), ('Deutschland sucht den Superstar', 0), ('Dan Gibson', 0), ('B.o.B', 0), ('Hozier', 0), ('John Williams', 0), ('Asher Monroe', 0), ('Jacoo', 0), ('Daniel Powter', 0), ('Alex Skrindo', 0), ('Afrojack', 0), ('Robin Thicke', 0), ('DJ Daniel Kim', 0), ('Alex Goot', 0), ('Big Sean', 0), ('Itro', 0), ('Diplo', 0), ('Juicy J', 0), ('Mika', 0), ('R3hab', 0), ('Lil Wayne', 0), ('Damien Rice', 0), ('Kevin Kern', 0), ('Michael Bublé', 0), ('Stewart Mac', 0), ('Felix Jaehn', 0), ('Nicki Minaj', 0), ('Kelly Clarkson', 0), ('Lady Gaga', 0), ('Colbie Caillat', 0), ('Kesha', 0), ('Jessie J', 0), ('Sia', 0), ('Beyoncé', 0), ('Selena Gomez', 0), ('Britney Spears', 0), ('P!nk', 0), ('Jess Glynne', 0), ('Mariah Carey', 0), ('Lenka', 0), ('Miley Cyrus', 0), ('Ingrid Michaelson', 0), ('Skylar Grey', 0), ('Diana Boncheva', 0), ('Madilyn Bailey', 0), ('Iggy Azalea', 0), ('Kim Taylor', 0), ('Charli XCX', 0), ('Zella Day', 0), ('Gwyneth Paltrow', 0), ('Jewel', 0), ('A Fine Frenzy', 0), ('Celine Dion', 0), ('Kate Havnevik', 0), ('Demi Lovato', 0), ('Rachel Platten', 0), ('Christina Aguilera', 0), ('Laura Brehm', 0), ('Dia Frampton', 0), ('Jasmine Thompson', 0), ('Lorde', 0), ('Dido', 0), ('Jennifer Lopez', 0), ('Tove Lo', 0), ('Sofia Jannok', 0), ('Lindsey Stirling', 0), ('Leona Lewis', 0), ('Whitney Houston', 0), ('Bea Miller', 0), ('Enya', 0), ('Lily Allen', 0), ('MØ', 0), ('Sarah Connor', 0), ('Russian Red', 0), ('Madonna', 0), ('Kimbra', 0), ('Slo', 0), ('Shahzoda', 0), ('Idina Menzel', 0), ('Birdy', 0), ('Diane Birch', 0), ('Janelle Monáe', 0), ('Inna', 0), ('Maria Arredondo', 0), ('Ina Wroldsen', 0), ('Alicia Keys', 0), ('Phoebe Ryan', 0), ('Sarah Brightman', 0), ('Alessia Cara', 0), ('Christina Perri', 0), ('Fefe Dobson', 0), ('Samantha Jade', 0), ('Angie Miller', 0), ('Emma Stevens', 0), ('Norah Jones', 0), ('Markéta Irglová', 0), ('Hélène Rolles', 0), ('Alyssa Reid', 0), ('Regina Spektor', 0), ('Yael Naim', 0), ('Giulia', 0), ('Lene Marlin', 0), ('Rachel Taylor', 0), ('Kate Linn', 0), ('Katie Sky', 0), ('Amy Winehouse', 0), ('Tiffany Alvord', 0), ('Tinashé', 0), ('Rita Ora', 0), ('Laura Welsh', 0), ('Halsey', 0), ('Lainey Lou', 0), ('Caro Emerald', 0), ('Louisa Wendorff', 0), ('Veela', 0), ('Owl City', 0), ('Nightwish', 0), ('Hillsong Young And Free', 0), ('Anthem Lights', 0), ('The Downtown Fiction', 0), ('The Script', 0), ('Green Day', 0), ('X-Ray Dog', 0), ('The Beatles', 0), ('Deep Side', 0), ('Bandari', 0), ('Groove Coverage', 0), ('Lady Antebellum', 0), ('Clean Bandit', 0), ('Black Eyed Peas', 0), ('Major Lazer', 0), ('Rixton', 0), ('Train', 0), ('Nickelback', 0), ('Backstreet Boys', 0), ('Lovestoned', 0), ('Eagles', 0), ('Glee Cast', 0), ('Fifth Harmony', 0), ('Bon Jovi', 0), ('Approaching Nirvana', 0), ('Michael Learns To Rock', 0), ('Carpenters', 0), ('Pentatonix', 0), ('The Wanted', 0), ('Walk off the Earth', 0), (\"Guns N' Roses\", 0), ('American Authors', 0), ('The xx', 0), ('Feint', 0), ('Queen', 0), ('Fun.', 0), ('The Cranberries', 0), ('Fort Minor', 0), ('Daft Punk', 0), ('Dreamtale', 0), ('Sum 41', 0), ('Muse', 0), ('M2M', 0), ('Simple Plan', 0), ('Secret Garden', 0), ('Escala', 0), ('Vicetone', 0), ('Years & Years', 0), ('The Weepies', 0), ('Oh Wonder', 0), ('The Piano Guys', 0), ('Oasis', 0), ('Jack Ü', 0), ('Radiohead', 0), ('Ashes Remain', 0), ('Young Rising Sons', 0), ('Rudimental', 0), ('Nirvana', 0), ('Era', 0), ('Pink Floyd', 0), ('Walk The Moon', 0), ('Travis', 0), ('Capo Productions', 0), ('The Chainsmokers', 0), ('Krewella', 0), ('Empire Cast', 0), ('R. City', 0), ('Megan & Liz', 0), ('A Great Big World', 0), ('SIGMA', 0), ('Marilyn Manson', 0), ('Take That', 0), ('MADE IN HEIGHTS', 0), ('U2', 0), ('Project 46', 0), ('Position Music', 0), ('LMFAO', 0), ('Joan Jett & the Blackhearts', 0), ('AC/DC', 0), ('The Rescues', 0), ('Disclosure', 0), ('Pixie Paris', 0), ('Rammstein', 0), ('Showtek', 0), ('VINAI', 0), ('Lovebugs', 0), ('Simon & Garfunkel', 0), ('TK from 凛として時雨', 0), ('鷺巣詩郎', 0), ('天門', 0), ('麻枝准', 0), ('Otokaze', 0), ('坂本龍一', 0), ('宗次郎', 0), ('やまだ豊', 0), ('林ゆうき', 0), ('増田俊郎', 0), ('三輪学', 0), ('岸部眞明', 0), ('山岡晃', 0), ('遠藤幹雄', 0), ('a_hisa', 0), ('光宗信吉', 0), ('まらしぃ', 0), ('出羽良彰', 0), ('押尾コータロー', 0), ('まふまふ', 0), ('岩崎琢', 0), ('深澤秀行', 0), ('Matt Cab', 0), ('大野克夫', 0), ('植松伸夫', 0), ('田中公平', 0), ('玉置浩二', 0), ('りぶ', 0), ('そらる', 0), ('伊東歌詞太郎', 0), ('Blazo', 0), ('4円', 0), ('神前暁', 0), ('佐藤直紀', 0), ('Robert de Boron', 0), ('吉森信', 0), ('秦基博', 0), ('ぐるたみん', 0), ('佐橋俊彦', 0), ('山下智久', 0), ('菅野祐悟', 0), ('松田彬人', 0), ('佐藤康夫', 0), ('山崎まさよし', 0), ('横山菁児', 0), ('加藤達也', 0), ('阿保剛', 0), ('蛇足', 0), (\"Nao'ymt\", 0), ('Nujabes', 0), ('Nomak', 0), ('赤ティン', 0), ('千住明', 0), ('中孝介', 0), ('じん', 0), ('妹尾武', 0), ('喜多郎', 0), ('鏡音レン', 0), ('浜口史郎', 0), ('松下優也', 0), ('姫神', 0), ('吉田潔', 0), ('YUNG BAE', 0), ('奥户巴寿', 0), ('黒うさP', 0), ('しゅーず', 0), ('luz', 0), ('有澤孝紀', 0), ('梅林茂', 0), ('伊藤賢治', 0), ('羽毛田丈史', 0), ('梁邦彦', 0), ('illion', 0), ('徳永英明', 0), ('太田美知彦', 0), ('宮野真守', 0), ('DECO*27', 0), ('sAr', 0), ('SMOOTH J', 0), ('中西亮輔', 0), ('増田順一', 0), ('松谷卓', 0), ('植地雅哉', 0), ('葉加瀬太郎', 0), ('水谷広実', 0), ('小田和正', 0), ('天月-あまつき-', 0), ('清水翔太', 0), ('大橋トリオ', 0), ('タニザワトモフミ', 0), ('宇多田ヒカル', 0), ('梶浦由記', 0), ('茅野愛衣', 0), ('西野カナ', 0), ('黒石ひとみ', 0), ('早見沙織', 0), ('LiSA', 0), ('Suara', 0), ('Anan Ryoko', 0), ('戸松遥', 0), ('ヲタみん', 0), ('Lia', 0), ('96猫', 0), ('手嶌葵', 0), ('中島美嘉', 0), ('浜崎あゆみ', 0), ('小野リサ', 0), ('YUI', 0), ('GUMI', 0), ('藍井エイル', 0), ('鏡音リン', 0), ('沢井美空', 0), ('磯村由纪子', 0), ('安室奈美恵', 0), ('菅野よう子', 0), ('堀江由衣', 0), ('前田愛', 0), ('柿チョコ', 0), ('藤田麻衣子', 0), ('いとうかなこ', 0), ('ルルティア', 0), ('安田レイ', 0), ('中島みゆき', 0), ('南條愛乃', 0), ('倉木麻衣', 0), ('水樹奈々', 0), ('平野綾', 0), ('雨宮天', 0), ('Annabel', 0), ('東山奈央', 0), ('Tia', 0), ('川嶋あい', 0), ('釘宮理恵', 0), ('茶太', 0), ('ZARD', 0), ('中村由利子', 0), ('種田梨沙', 0), ('原田ひとみ', 0), ('伊藤サチコ', 0), ('AZU', 0), ('多田葵', 0), ('椎名林檎', 0), ('つじあやの', 0), ('ナノ', 0), ('senya', 0), ('acane_madder', 0), ('田中あいみ', 0), ('高橋洋子', 0), ('川田まみ', 0), ('JUJU', 0), ('岡崎律子', 0), ('西村由紀江', 0), ('大塚 愛', 0), ('新田恵海', 0), ('CHiCO with HoneyWorks', 0), ('井口裕香', 0), ('広橋真紀子', 0), ('徳井青空', 0), ('佐倉綾音', 0), ('Rie fu', 0), ('のぶなが', 0), ('SNoW', 0), ('三森すずこ', 0), ('家入レオ', 0), ('水瀬いのり', 0), ('鎖那', 0), ('能登麻美子', 0), ('さユり', 0), ('坂本真綾', 0), ('IA', 0), ('滴草由実', 0), ('ANZA', 0), ('志方あきこ', 0), ('miwa', 0), ('鈴木このみ', 0), ('羽深由理', 0), ('ChouCho', 0), (\"Che'Nelle\", 0), ('彩音', 0), ('ろん', 0), ('いきものがかり', 0), ('7!!', 0), ('Foxtail-Grass Studio', 0), ('Falcom Sound Team jdk', 0), ('moumoon', 0), ('上海アリス幻樂団', 0), ('Kalafina', 0), ('RADWIMPS', 0), ('BABYMETAL', 0), ('Supercell', 0), ('Sound Horizon', 0), ('TAMUSIC', 0), ('幽閉サテライト', 0), ('whiteeeen', 0), ('ClariS', 0), ('BAAD', 0), ('JAM Project', 0), ('STEREO DIVE FOUNDATION', 0), ('End of the World', 0), ('乃木坂46', 0), ('放課後ティータイム', 0), ('THE ORAL CIGARETTES', 0), ('amazarashi', 0), ('VOCALOID', 0), ('DEPAPEPE', 0), ('BRIGHT', 0), ('ハンバート ハンバート', 0), ('SPYAIR', 0), ('六三四', 0), ('関ジャニ∞', 0), ('Della', 0), ('M.Graveyard', 0), ('スキマスイッチ', 0), ('みかん箱', 0), ('魂音泉', 0), ('WANDS', 0), ('Perfume', 0), ('FictionJunction', 0), ('和楽器バンド', 0), ('古川本舗', 0), ('angela', 0), ('ギガP', 0), ('Silent Siren', 0), ('KinKi Kids', 0), ('高鈴', 0), ('BUMP OF CHICKEN', 0), ('UNISON SQUARE GARDEN', 0), ('ばんばんしー', 0), ('Alstroemeria Records', 0), ('LOVE PSYCHEDELICO', 0), ('音乐治疗', 0), ('和平之月', 0), ('HoneyWorks', 0), ('eufonius', 0), ('Fear, and Loathing in Las Vegas', 0), ('凛として時雨', 0), ('EXIT TUNES', 0), ('舞風', 0), ('RSP', 0), ('はちみつれもん', 0), ('wacci', 0), ('IOSYS', 0), ('MY FIRST STORY', 0), (\"Rin'\", 0), ('凋叶棕', 0), ('MAGIC OF LiFE', 0), ('THE IDOLM@STER', 0), ('HAPPY BIRTHDAY', 0), ('Hey! Say! JUMP', 0), ('Mili', 0), ('EastNewSound', 0), ('MAN WITH A MISSION', 0), ('スピッツ', 0), ('光栄BGM部', 0), ('たま', 0), ('X JAPAN', 0), ('樹海', 0), (\"ROOKiEZ is PUNK'D\", 0), ('歌ってみた', 0), ('ZIZZ STUDIO', 0), ('シド', 0), ('CrossGear', 0), ('Sensitive Heart', 0), ('Spontania', 0), ('THREE LIGHTS DOWN KINGS', 0), ('GARNiDELiA', 0), ('minato', 0), ('fhána', 0), ('宋旻浩', 0), ('San E', 0), ('Dok2', 0), ('The One', 0), ('Wisp\\xa0X', 0), ('Daydream', 0), ('Tablo', 0), ('Tiger JK', 0), ('朴灿烈', 0), ('曺圭贤', 0), ('Loco', 0), ('K.Will', 0), ('T.O.P', 0), ('李洪基', 0), ('朴明秀', 0), ('Bumkey', 0), ('BrotherSu', 0), ('黄光熙', 0), ('钟铉', 0), ('MC 梦', 0), ('Junggigo', 0), ('Beenzino', 0), ('成始璄', 0), ('Mad Clown', 0), ('朴振荣', 0), ('Lil Boi', 0), ('金昌万', 0), ('JOO YOUNG', 0), ('金俊秀', 0), ('Chen', 0), ('龙俊亨', 0), ('金钟国', 0), ('The Quiett', 0), ('Paloalto', 0), ('甘雨', 0), ('金泰宇', 0), ('Jung Kook', 0), ('Primary', 0), ('朴孝信', 0), ('许阁', 0), ('D.O.', 0), ('NaShow', 0), ('伯贤', 0), ('Babylon', 0), ('张利贞', 0), ('The\\xa0Workday\\xa0Release', 0), ('Kanto', 0), ('Iron', 0), ('Swings', 0), ('李承哲', 0), ('Eddie', 0), ('金必', 0), ('徐仁国', 0), ('Okasian', 0), ('权正烈', 0), ('Turbotronic', 0), ('李笛', 0), ('Hanhae', 0), ('哈哈', 0), ('Roy Kim', 0), ('申升勋', 0), ('RM', 0), ('Basick', 0), ('Natural', 0), ('Giriboy', 0), ('B.I', 0), ('金在中', 0), ('Damiano', 0), ('梁耀燮', 0), ('Jami Soul', 0), ('申东辉', 0), ('辉星', 0), ('任昌丁', 0), ('崔始源', 0), ('刘在石', 0), ('咖啡少年', 0), ('DJ Siesta', 0), ('Vincent Blue', 0), ('金范秀', 0), ('GAEKO', 0), ('Rachael\\xa0Yamagata', 0), ('Younha', 0), ('郑仁', 0), ('李遐怡', 0), ('Jinsil', 0), ('MIWOO', 0), ('金润雅', 0), ('金艺林', 0), ('LYn', 0), ('Sara', 0), ('朴宝蓝', 0), ('敏雅', 0), ('张才人', 0), ('朴春', 0), ('Krystal', 0), ('白艺潾', 0), ('Amber', 0), ('Heize', 0), ('白娥娟', 0), ('Ben', 0), ('智妍', 0), ('G.NA', 0), ('郑恩地', 0), ('Yezi', 0), ('李孝利', 0), ('宣美', 0), ('Kisum', 0), ('佳仁', 0), ('智珉', 0), ('全秀妍', 0), ('朴信惠', 0), ('朴正炫', 0), ('姜敏熙', 0), ('李仙姬', 0), ('孝敏', 0), ('俞胜恩', 0), ('李贞贤', 0), ('宋智恩', 0), ('草娥', 0), ('Cheetah', 0), ('Punch', 0), ('Zia', 0), ('陆智谭', 0), ('JUNIEL', 0), ('Oohyo', 0), ('赵元善', 0), ('NS允智', 0), ('Lydia Paek', 0), ('Wendy', 0), ('Hari', 0), ('蔡妍', 0), ('金宝京', 0), ('全孝盛', 0), ('洪真英', 0), ('Suran', 0), ('Tiffany Young', 0), ('Navi', 0), ('새벽', 0), ('赵正熙', 0), ('Wax', 0), ('孙丹菲', 0), ('ELSIE', 0), ('许嘉允', 0), ('Yulia', 0), ('Big Baby Driver', 0), ('Truedy', 0), ('Ali', 0), ('Stella Jang', 0), ('严正花', 0), ('金喜善', 0), ('金雅中', 0), ('李宝蓝', 0), ('朴慧京', 0), ('朴宝英', 0), ('张娜拉', 0), ('SUA', 0), ('Raina', 0), ('KittiB', 0), ('J.ae', 0), ('Hello Gayoung', 0), ('Luna', 0), ('率智', 0), ('Sandara Park', 0), ('Solar', 0), ('Apink', 0), ('CNBLUE', 0), ('Beast', 0), ('Epik High', 0), ('Leessang', 0), ('Infinite', 0), ('Sistar', 0), ('Super Junior', 0), ('GD&TOP', 0), ('WINNER', 0), ('hyukoh', 0), (\"Girl's Day\", 0), ('GD X TAEYANG', 0), ('4MINUTE', 0), ('DAViCHi', 0), ('Red Velvet', 0), ('Trouble Maker', 0), ('miss A', 0), ('EXO-K', 0), ('Kara', 0), ('B1A4', 0), ('TWICE', 0), ('Wonder Girls', 0), ('Nine Muses', 0), ('Brown Eyed Girls', 0), ('Turbo', 0), ('After School', 0), ('Crayon Pop', 0), ('Dynamic Duo', 0), ('Lovelyz', 0), ('FTISLAND', 0), ('Teen Top', 0), ('Standing Egg', 0), ('Mamamoo', 0), ('Nell', 0), ('Hello Venus', 0), ('Block B', 0), ('Stellar', 0), ('神话', 0), ('SUPER JUNIOR-D&E(东海&银赫)', 0), ('高耀太', 0), ('FIESTAR', 0), ('MONSTA X', 0), ('Rainbow', 0), ('December', 0), ('BaeChiGi', 0), ('Secret', 0), ('High4', 0), ('Vanilla Acoustic', 0), ('Brown Eyed Soul', 0), ('Noel', 0), ('2AM', 0), ('Urban Zakapa', 0), ('BOYFRIEND', 0), ('10cm', 0), ('As One', 0), ('Orange Caramel', 0), ('2Lson', 0), ('SPICA', 0), ('WABLE', 0), ('god', 0), ('Sweden Laundry', 0), ('Apnea', 0), ('Ukulele Picnic', 0), ('The Seeya', 0), ('JinuSean', 0), ('帝国的孩子们', 0), ('Sunny Hill', 0), ('SG Wannabe', 0), ('野菊花', 0), ('Acoustic Collabo', 0), ('Every Single Day', 0), ('SEVENTEEN', 0), ('VIXX LR', 0), ('SPEED', 0), ('B.I&BOBBY', 0), ('J Rabbit', 0), ('Sistar19', 0), ('Sonu Nigam', 0), ('Salim-Sulaiman', 0), ('uMmuDum', 0), ('Kaleo', 0), ('伊力哈尔·阿卜杜热合曼', 0), ('Anti-General', 0), ('IZ乐队', 0), ('Ice Sarunyu', 0), ('Anu Malik', 0), ('Mike D. Angelo', 0), ('pSyk', 0), ('邱比', 0), ('Bie Sukrit', 0), ('Arslan Ahmat', 0), ('Humood AlKhudher', 0), ('Angry5JaR', 0), ('Mohit Chauhan', 0), ('L.V.', 0), ('Pchy', 0), ('邓泰山', 0), ('Shaan', 0), ('Captain Chonlathorn', 0), ('Gusttavo Lima', 0), ('M.M. Keeravani', 0), ('husidin', 0), ('Boy Sompob', 0), ('York', 0), ('White Nawat', 0), ('Arca', 0), ('Kavin Hoo', 0), ('亚尔肯', 0), ('MuHtAr Jan - Yasin', 0), ('Shahimerdan麦尔丹', 0), ('Atif Aslam', 0), ('IDinn\\xa0Borkan', 0), ('Karthik', 0), ('音浪', 0), ('DJRovin', 0), ('Aosaki', 0), ('Ershat-yvsvn', 0), ('Vijay Prakash', 0), ('Kongar-ol Ondar', 0), ('Mudassar·Aziz', 0), ('Abdughopur_Abduwali', 0), ('Yat-Kha', 0), ('Mirbek Atabekov', 0), ('Vid Hiper R siam', 0), ('DJ CHETAS', 0), ('Jeet Gannguli', 0), ('Oak Smith', 0), ('Sajid-Wajid', 0), ('Mani Sharma', 0), ('Bojalar Guruhi', 0), ('Angger Dimas', 0), ('Daniyar', 0), ('Shahrukh Khan', 0), ('Sin', 0), ('Bird Thongchai', 0), ('Nat Sakdatorn', 0), ('Daboo Malik', 0), ('James Jirayu', 0), ('Yuri Kane', 0), ('Ajay-Atul', 0), ('Javed Ali', 0), ('Son Tung', 0), ('Hummingbert Stereo', 0), ('Bell Supol', 0), ('Bappi Lahiri', 0), ('Serdar Şenel', 0), ('erzat', 0), ('Nadech Kugimiya', 0), ('chimneycrow', 0), ('Bad Style', 0), ('Chirgilchin', 0), ('Roop Kumar Rathod', 0), ('Define Light', 0), ('Mbongwana Star', 0), ('Audiosoldier', 0), ('Mithoon', 0), ('Chin', 0), ('Nyoy Volante', 0), ('Shahid Mallya', 0), ('Dew Arunpong', 0), ('Opor Praput', 0), ('Meet Brothers Anjjan', 0), ('Kangsom Tanatat', 0), ('Harris Jayaraj', 0), ('SEK LOSO', 0), ('Aof Pongsak', 0), ('Uttam Singh', 0), ('mica', 0), ('伊美达', 0), ('Truong Quynh Anh', 0), ('Mook Worranit', 0), ('Elissa', 0), ('Asha Bhosle', 0), ('Sabrina', 0), ('Palmy', 0), ('Kyla', 0), ('Ann Thitima', 0), ('Kelly Siew', 0), ('Lula', 0), ('Света Светикова', 0), ('伊帕尔古丽', 0), ('Focus Jeerakul', 0), ('Da Endorphine', 0), ('Raisa', 0), ('予词', 0), ('水曜日', 0), ('胡玉荷', 0), ('Earth Patravee', 0), ('Miu Le', 0), ('Gypso Ariigantha', 0), ('Dong Nhi', 0), ('Panadda Ruangwut', 0), ('Yinglee Srijoomphol', 0), ('แพรวา Yellow fang', 0), ('Namaste', 0), ('Namika', 0), ('Bajka', 0), ('宇田', 0), ('Sadhana Sargam', 0), ('Krit Krisanavarin', 0), ('Gemma Rea', 0), ('Cita Citata', 0), ('Tata', 0), ('Anggun', 0), ('Siti Nurhaliza', 0), ('Atom Kritchanok', 0), ('Natacha Atlas', 0), ('Lưu Hương Giang', 0), ('Öykü Gürman', 0), ('Praw Kanitkul', 0), ('Ruhi', 0), ('Noona Nuengthida', 0), ('Umut', 0), ('Jannine Weigel', 0), ('Kishore Kumar', 0), ('Regine Velasquez', 0), ('Анжелика Варум', 0), ('Yaya Urassaya', 0), ('Lookwa Pijika', 0), ('Linda', 0), ('Assia', 0), ('Veronica', 0), ('Helen', 0), ('Thuy Tien', 0), ('吴玉霞', 0), ('Yarinda', 0), ('Richa Sharma', 0), ('Yara', 0), ('Amal Maher', 0), ('ZEE', 0), ('Angham', 0), ('白红梅', 0), ('Nat', 0), ('Saka Trung Tuyen', 0), ('Jennifer Kim', 0), ('Марина Девятова', 0), ('Ani Tsering Wangmo', 0), ('Najwa Karam', 0), ('Dina Hayek', 0), ('Surasee Eittikul', 0), ('Sunitha', 0), ('Lagoon West', 0), ('Min Pechaya', 0), ('Green Ausadaporn', 0), ('Diana Haddad', 0), ('Tanzmarathon Orchester', 0), ('V Violette Wautier', 0), ('Agiimaa', 0), ('Vaishali Made', 0), ('Lanna Commins', 0), ('Soledad Pastorutti', 0), ('Snow Fox Apprentice', 0), ('Bowling Manida', 0), ('Vaishali Samant', 0), ('Sarah Geronimo', 0), ('2nd Room', 0), ('Huun-Huur-Tu', 0), ('August Band', 0), ('Budokan', 0), ('MFÖ', 0), ('Hurd', 0), ('Zaza Travel', 0), ('Muxu', 0), ('KLEAR', 0), ('Bodyslam', 0), ('Boom! Bap! Pow!', 0), ('Nadeem & Shravan', 0), ('Matt Webb', 0), ('The Bottom Blues', 0), ('Majdanek Waltz', 0), (\"Nuttin' But stringz\", 0), ('Inspirative', 0), ('Umpire', 0), ('New & Jiew', 0), ('Singular', 0), ('Namgar', 0), ('Slot Machine', 0), ('Spiritual Seasons', 0), ('Nox Doloris', 0), ('Pakarina', 0), ('Anima', 0), ('Lipta', 0), ('TATAR', 0), ('The Milo', 0), ('Amanecer Ecuador', 0), ('Natural Garden', 0), ('I am waiting for you last summer', 0), ('Laramarka', 0), ('Scrubb', 0), ('FFK', 0), ('BIG ASS', 0), ('Ciclon', 0), ('Khusugtun', 0), ('Dvar', 0), ('25 hours', 0), ('Ay-Kherel', 0), ('M.G.Sreekumar', 0), ('Altan Urag', 0), (\"Jetset'er\", 0), ('Tono & The Dust', 0), ('Age Of Echoes', 0), ('REDD', 0), ('The Young Professionals', 0), ('Silly Fools', 0), ('Friday', 0), ('Cocktail', 0), ('Zeal', 0), ('Calories Blah Blah', 0), ('ДДТ', 0), ('I Musici de Montreal', 0), ('บีไฟว์', 0), ('For a Minor Reflection', 0), ('Mild', 0), ('Mavericks_Official\\xa0', 0), ('Dan Romer & Benh Zeitlin', 0), ('D.A.M.A', 0), ('PISS SPEARS', 0), ('Summer Of Haze', 0), ('JKT48', 0), ('The Bilz and Kashif', 0), ('AltaiKAI', 0), ('Yiltiz', 0), ('คาราบาว', 0), ('Polycat', 0), ('3.2.1', 0), ('ГРУППА ПИЦЦА', 0), ('Kausal', 0), ('Withyouathome', 0), ('Les Enfants', 0), ('Skyway', 0), ('Neko Jump', 0), ('语君子兰', 0), ('Sinobola', 0), ('The Stellas', 0), ('Budapest Festival Orchestra', 0), ('四千金', 0), ('VieTrio', 0), ('Capture the Crown', 0), ('No More Tear', 0), ('Tonn Sofa', 0), ('Tyva Kyzy', 0), ('Stafrænn Hákon', 0), ('Alash Ensemble', 0), ('Wynardtage', 0), ('蓝野乐队', 0), ('许巍', 0), ('蔡健雅\\xa0', 0), ('Adele', 0), ('Bruno Mars', 0), ('Coldplay', 0), ('Justin Bieber', 0), ('陈粒\\xa0', 0), ('赵雷\\xa0', 0), ('李志\\xa0', 0), ('王力宏\\xa0', 0), ('好妹妹\\xa0', 0), ('Alan Walker\\xa0', 0), ('Fall Out Boy', 0), ('金玟岐\\xa0', 0), ('宋冬野\\xa0', 0), ('朴树\\xa0', 0), ('OneRepublic', 0), ('Tobu\\xa0', 0), ('Two Steps From Hell', 0), ('许嵩\\xa0', 0), ('Ed Sheeran\\xa0', 0), ('谢安琪\\xa0', 0), ('杨千嬅', 0), ('马頔\\xa0', 0), ('Charlie Puth', 0), ('Wiz Khalifa', 0), ('Rihanna', 0), ('Ellie Goulding', 0), ('张惠妹\\xa0', 0), ('IU', 0), ('澤野弘之', 0), ('Carly Rae Jepsen', 0), ('G-Dragon', 0), ('Taylor Swift', 0), ('One Direction', 0), ('刘瑞琦\\xa0', 0), ('Imagine Dragons', 0), ('刘思涵\\xa0', 0), ('Ariana Grande', 0), ('Katy Perry', 0), ('Aimer', 0), ('Avicii', 0), ('周传雄\\xa0', 0), ('久石譲', 0), ('逃跑计划\\xa0', 0), ('Justin Timberlake', 0), ('Westlife', 0), ('Sunshine\\xa0', 0), ('Avril Lavigne\\xa0', 0), ('T-ara\\xa0', 0), ('陶喆\\xa0', 0), ('Lana Del Rey', 0), ('Linkin Park', 0), ('张信哲\\xa0', 0), ('陈绮贞\\xa0', 0), ('Audio Machine', 0), ('TheFatRat\\xa0', 0), ('方大同\\xa0', 0), ('谭维维\\xa0', 0), ('GALA\\xa0', 0), ('初音ミク', 0)])\n"
     ]
    }
   ],
   "source": [
    "from operator import itemgetter \n",
    "from collections import OrderedDict\n",
    "ats =  pd.read_excel(r'C:\\Users\\romilda\\Desktop\\weibo scrapers\\artists.xlsx',header=None)\n",
    "colname = ats.columns[0]\n",
    "ats_dict = {}\n",
    "for index,row in ats.iterrows():\n",
    "    ats_dict[row[colname]] = freq[row[colname]]\n",
    "print(OrderedDict(sorted(ats_dict.items(), key = itemgetter(1), reverse = True)))"
   ]
  },
  {
   "cell_type": "code",
   "execution_count": 185,
   "metadata": {},
   "outputs": [
    {
     "data": {
      "text/html": [
       "<div>\n",
       "<style scoped>\n",
       "    .dataframe tbody tr th:only-of-type {\n",
       "        vertical-align: middle;\n",
       "    }\n",
       "\n",
       "    .dataframe tbody tr th {\n",
       "        vertical-align: top;\n",
       "    }\n",
       "\n",
       "    .dataframe thead th {\n",
       "        text-align: right;\n",
       "    }\n",
       "</style>\n",
       "<table border=\"1\" class=\"dataframe\">\n",
       "  <thead>\n",
       "    <tr style=\"text-align: right;\">\n",
       "      <th></th>\n",
       "      <th>art_and_entertainment</th>\n",
       "      <th>automotive_and_vehicles</th>\n",
       "      <th>business_industry</th>\n",
       "      <th>food_drink</th>\n",
       "      <th>news_media_publications</th>\n",
       "      <th>style_fashion</th>\n",
       "    </tr>\n",
       "  </thead>\n",
       "  <tbody>\n",
       "    <tr>\n",
       "      <th>0</th>\n",
       "      <td>视频</td>\n",
       "      <td>汽车</td>\n",
       "      <td>商业</td>\n",
       "      <td>食物</td>\n",
       "      <td>新闻</td>\n",
       "      <td>style</td>\n",
       "    </tr>\n",
       "    <tr>\n",
       "      <th>1</th>\n",
       "      <td>音乐</td>\n",
       "      <td>自动化</td>\n",
       "      <td>商务</td>\n",
       "      <td>饮料</td>\n",
       "      <td>媒体</td>\n",
       "      <td>fashion</td>\n",
       "    </tr>\n",
       "    <tr>\n",
       "      <th>2</th>\n",
       "      <td>歌曲</td>\n",
       "      <td>机械</td>\n",
       "      <td>企业</td>\n",
       "      <td>甜品</td>\n",
       "      <td>书</td>\n",
       "      <td>时尚</td>\n",
       "    </tr>\n",
       "    <tr>\n",
       "      <th>3</th>\n",
       "      <td>歌手</td>\n",
       "      <td>豪车</td>\n",
       "      <td>公司</td>\n",
       "      <td>零食</td>\n",
       "      <td>发表</td>\n",
       "      <td>模特</td>\n",
       "    </tr>\n",
       "    <tr>\n",
       "      <th>4</th>\n",
       "      <td>唱歌</td>\n",
       "      <td>跑车</td>\n",
       "      <td>金融</td>\n",
       "      <td>夜宵</td>\n",
       "      <td>出版</td>\n",
       "      <td>形象</td>\n",
       "    </tr>\n",
       "  </tbody>\n",
       "</table>\n",
       "</div>"
      ],
      "text/plain": [
       "  art_and_entertainment automotive_and_vehicles business_industry food_drink  \\\n",
       "0                    视频                      汽车                商业         食物   \n",
       "1                    音乐                     自动化                商务         饮料   \n",
       "2                    歌曲                      机械                企业         甜品   \n",
       "3                    歌手                      豪车                公司         零食   \n",
       "4                    唱歌                      跑车                金融         夜宵   \n",
       "\n",
       "  news_media_publications style_fashion  \n",
       "0                      新闻         style  \n",
       "1                      媒体       fashion  \n",
       "2                       书            时尚  \n",
       "3                      发表            模特  \n",
       "4                      出版            形象  "
      ]
     },
     "execution_count": 185,
     "metadata": {},
     "output_type": "execute_result"
    }
   ],
   "source": [
    "import os\n",
    "industries = []\n",
    "for path, subdirs, files in os.walk(r'C:\\Users\\romilda\\Desktop\\weibo scrapers\\dict'):\n",
    "    for filename in files:\n",
    "        name = filename[:-4]\n",
    "        f = os.path.join(path, filename)\n",
    "        temp =  pd.read_csv(f,header=None)\n",
    "        temp.columns=[name]\n",
    "        industries.append(temp)\n",
    "industries = pd.concat(industries,axis=1)\n",
    "industries.head()"
   ]
  },
  {
   "cell_type": "code",
   "execution_count": 193,
   "metadata": {},
   "outputs": [
    {
     "data": {
      "text/plain": [
       "{'art_and_entertainment': 2553,\n",
       " 'automotive_and_vehicle': 5,\n",
       " 'business_industry': 28,\n",
       " 'food_drink': 69,\n",
       " 'news_media_publications': 77,\n",
       " 'style_fashion': 56}"
      ]
     },
     "execution_count": 193,
     "metadata": {},
     "output_type": "execute_result"
    }
   ],
   "source": [
    "art_entertain, auto_vehicles, busi_industry, food_drink, news_media_publcation, style_fshn = 0,0,0,0,0,0\n",
    "interest_dict = {}\n",
    "for index,row in industries.iterrows():\n",
    "    art_entertain = art_entertain+freq[row['art_and_entertainment']]\n",
    "    auto_vehicles = auto_vehicles+freq[row['automotive_and_vehicles']]\n",
    "    busi_industry = busi_industry+freq[row['business_industry']] \n",
    "    food_drink =  food_drink+freq[row['food_drink']] \n",
    "    news_media_publcation = news_media_publcation+freq[row['news_media_publications']] \n",
    "    style_fshn = style_fshn+freq[row['style_fashion']] \n",
    "interest_dict['art_and_entertainment'] = art_entertain\n",
    "interest_dict['automotive_and_vehicle'] = auto_vehicles\n",
    "interest_dict['business_industry'] = busi_industry\n",
    "interest_dict['food_drink'] = food_drink\n",
    "interest_dict['news_media_publications'] =  news_media_publcation\n",
    "interest_dict['style_fashion'] = style_fshn\n",
    "interest_dict"
   ]
  },
  {
   "cell_type": "code",
   "execution_count": 195,
   "metadata": {
    "scrolled": true
   },
   "outputs": [
    {
     "data": {
      "text/plain": [
       "[('音乐', 1889),\n",
       " ('\\u200b', 1363),\n",
       " ('t', 599),\n",
       " ('秒', 523),\n",
       " ('//', 499),\n",
       " ('心', 399),\n",
       " ('家', 389),\n",
       " ('频', 373),\n",
       " ('易', 353),\n",
       " ('想', 337),\n",
       " ('首', 324),\n",
       " ('歌', 307),\n",
       " ('唱', 297),\n",
       " ('新', 294),\n",
       " ('爱', 283),\n",
       " ('说', 269),\n",
       " ('视频', 267),\n",
       " ('王俊凯', 267),\n",
       " ('喜欢', 218),\n",
       " ('中', 216),\n",
       " ('拍', 216),\n",
       " ('做', 212),\n",
       " ('陈立农', 211),\n",
       " ('真', 186),\n",
       " ('玺', 183),\n",
       " ('天', 181),\n",
       " ('听', 171),\n",
       " ('TFBOYS', 165),\n",
       " ('里', 163),\n",
       " ('太', 153)]"
      ]
     },
     "execution_count": 195,
     "metadata": {},
     "output_type": "execute_result"
    }
   ],
   "source": [
    "freq.most_common(30)"
   ]
  },
  {
   "cell_type": "code",
   "execution_count": null,
   "metadata": {},
   "outputs": [],
   "source": []
  },
  {
   "cell_type": "code",
   "execution_count": null,
   "metadata": {},
   "outputs": [],
   "source": []
  }
 ],
 "metadata": {
  "kernelspec": {
   "display_name": "Python 3",
   "language": "python",
   "name": "python3"
  },
  "language_info": {
   "codemirror_mode": {
    "name": "ipython",
    "version": 3
   },
   "file_extension": ".py",
   "mimetype": "text/x-python",
   "name": "python",
   "nbconvert_exporter": "python",
   "pygments_lexer": "ipython3",
   "version": "3.6.6"
  }
 },
 "nbformat": 4,
 "nbformat_minor": 2
}
