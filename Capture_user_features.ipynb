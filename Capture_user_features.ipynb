{
 "cells": [
  {
   "cell_type": "code",
   "execution_count": 1,
   "metadata": {},
   "outputs": [
    {
     "data": {
      "text/html": [
       "<div>\n",
       "<style scoped>\n",
       "    .dataframe tbody tr th:only-of-type {\n",
       "        vertical-align: middle;\n",
       "    }\n",
       "\n",
       "    .dataframe tbody tr th {\n",
       "        vertical-align: top;\n",
       "    }\n",
       "\n",
       "    .dataframe thead th {\n",
       "        text-align: right;\n",
       "    }\n",
       "</style>\n",
       "<table border=\"1\" class=\"dataframe\">\n",
       "  <thead>\n",
       "    <tr style=\"text-align: right;\">\n",
       "      <th></th>\n",
       "      <th>source_link</th>\n",
       "      <th>username</th>\n",
       "      <th>id</th>\n",
       "      <th>content</th>\n",
       "      <th>likes</th>\n",
       "      <th>time_source</th>\n",
       "      <th>comment_index</th>\n",
       "      <th>pred_polarity</th>\n",
       "      <th>ID</th>\n",
       "      <th>location</th>\n",
       "      <th>gender</th>\n",
       "      <th>dob</th>\n",
       "      <th>introduction</th>\n",
       "      <th>tags</th>\n",
       "      <th>level</th>\n",
       "      <th>weibos</th>\n",
       "      <th>following</th>\n",
       "      <th>followers</th>\n",
       "      <th>age</th>\n",
       "    </tr>\n",
       "  </thead>\n",
       "  <tbody>\n",
       "    <tr>\n",
       "      <th>0</th>\n",
       "      <td>https://weibo.cn/comment/GiMkLtNXk?uid=1680313...</td>\n",
       "      <td>徐智魔</td>\n",
       "      <td>/u/1349817877</td>\n",
       "      <td>回复 Petter 韩峰 绝对 不 是 流氓 ， 打残版 的 潘粤明</td>\n",
       "      <td>1</td>\n",
       "      <td>05月29日 17:32 来自网页</td>\n",
       "      <td>0</td>\n",
       "      <td>1</td>\n",
       "      <td>NaN</td>\n",
       "      <td>NaN</td>\n",
       "      <td>NaN</td>\n",
       "      <td>NaN</td>\n",
       "      <td>NaN</td>\n",
       "      <td>NaN</td>\n",
       "      <td>NaN</td>\n",
       "      <td>NaN</td>\n",
       "      <td>NaN</td>\n",
       "      <td>NaN</td>\n",
       "      <td>-</td>\n",
       "    </tr>\n",
       "    <tr>\n",
       "      <th>1</th>\n",
       "      <td>https://weibo.cn/comment/GiMkLtNXk?uid=1680313...</td>\n",
       "      <td>萨摩耶与袜子</td>\n",
       "      <td>/u/2924656855</td>\n",
       "      <td>老爷子 鼓掌 最 喜欢 in   my   secret   life</td>\n",
       "      <td>1</td>\n",
       "      <td>05月29日 12:38 来自网页</td>\n",
       "      <td>0</td>\n",
       "      <td>0</td>\n",
       "      <td>https://weibo.com/p/1005052924656855/info?mod=...</td>\n",
       "      <td>上海</td>\n",
       "      <td>m</td>\n",
       "      <td>1926年8月16日</td>\n",
       "      <td>NaN</td>\n",
       "      <td>NaN</td>\n",
       "      <td>Lv.14</td>\n",
       "      <td>1310.0</td>\n",
       "      <td>885.0</td>\n",
       "      <td>56.0</td>\n",
       "      <td>-</td>\n",
       "    </tr>\n",
       "    <tr>\n",
       "      <th>2</th>\n",
       "      <td>https://weibo.cn/comment/GiMkLtNXk?uid=1680313...</td>\n",
       "      <td>素履无咎</td>\n",
       "      <td>/u/1069976075</td>\n",
       "      <td>转发 微博</td>\n",
       "      <td>1</td>\n",
       "      <td>05月29日 14:49 来自网页</td>\n",
       "      <td>0</td>\n",
       "      <td>0</td>\n",
       "      <td>https://weibo.com/p/1005051069976075/info?mod=...</td>\n",
       "      <td>广东 广州</td>\n",
       "      <td>m</td>\n",
       "      <td>NaN</td>\n",
       "      <td>NaN</td>\n",
       "      <td>旅游</td>\n",
       "      <td>Lv.38</td>\n",
       "      <td>5041.0</td>\n",
       "      <td>280.0</td>\n",
       "      <td>173.0</td>\n",
       "      <td>-</td>\n",
       "    </tr>\n",
       "    <tr>\n",
       "      <th>3</th>\n",
       "      <td>https://weibo.cn/comment/GiMkLtNXk?uid=1680313...</td>\n",
       "      <td>CICY_QAQ</td>\n",
       "      <td>/u/1915623992</td>\n",
       "      <td>摩羯鸡</td>\n",
       "      <td>0</td>\n",
       "      <td>06月04日 11:13 来自网页</td>\n",
       "      <td>0</td>\n",
       "      <td>0</td>\n",
       "      <td>https://weibo.com/p/1005051915623992/info?mod=...</td>\n",
       "      <td>湖南 长沙</td>\n",
       "      <td>f</td>\n",
       "      <td>NaN</td>\n",
       "      <td>٩꒰๑• ̫•๑꒱۶好好吃饭</td>\n",
       "      <td>NaN</td>\n",
       "      <td>Lv.39</td>\n",
       "      <td>576.0</td>\n",
       "      <td>545.0</td>\n",
       "      <td>797.0</td>\n",
       "      <td>-</td>\n",
       "    </tr>\n",
       "    <tr>\n",
       "      <th>4</th>\n",
       "      <td>https://weibo.cn/comment/GiMkLtNXk?uid=1680313...</td>\n",
       "      <td>薑薑薑薑薑薑大宝</td>\n",
       "      <td>/u/1562981417</td>\n",
       "      <td>沉醉 又 清醒 的 唱 着 ， 老 科恩 的 眼神 是 那 么 美好 ， 无公害 的 轻松 风</td>\n",
       "      <td>0</td>\n",
       "      <td>05月31日 12:27 来自网页</td>\n",
       "      <td>0</td>\n",
       "      <td>1</td>\n",
       "      <td>https://weibo.com/p/1005051562981417/info?mod=...</td>\n",
       "      <td>海外 其他</td>\n",
       "      <td>f</td>\n",
       "      <td>NaN</td>\n",
       "      <td>2018优于过去的自己，而不是别人：愿歲月的錘打給她帶來豐滿的靈魂和清瘦的慾望。（她表妹說。）</td>\n",
       "      <td>NaN</td>\n",
       "      <td>Lv.25</td>\n",
       "      <td>113.0</td>\n",
       "      <td>203.0</td>\n",
       "      <td>29.0</td>\n",
       "      <td>-</td>\n",
       "    </tr>\n",
       "  </tbody>\n",
       "</table>\n",
       "</div>"
      ],
      "text/plain": [
       "                                         source_link  username             id  \\\n",
       "0  https://weibo.cn/comment/GiMkLtNXk?uid=1680313...       徐智魔  /u/1349817877   \n",
       "1  https://weibo.cn/comment/GiMkLtNXk?uid=1680313...    萨摩耶与袜子  /u/2924656855   \n",
       "2  https://weibo.cn/comment/GiMkLtNXk?uid=1680313...      素履无咎  /u/1069976075   \n",
       "3  https://weibo.cn/comment/GiMkLtNXk?uid=1680313...  CICY_QAQ  /u/1915623992   \n",
       "4  https://weibo.cn/comment/GiMkLtNXk?uid=1680313...  薑薑薑薑薑薑大宝  /u/1562981417   \n",
       "\n",
       "                                           content  likes        time_source  \\\n",
       "0               回复 Petter 韩峰 绝对 不 是 流氓 ， 打残版 的 潘粤明      1  05月29日 17:32 来自网页   \n",
       "1              老爷子 鼓掌 最 喜欢 in   my   secret   life      1  05月29日 12:38 来自网页   \n",
       "2                                            转发 微博      1  05月29日 14:49 来自网页   \n",
       "3                                              摩羯鸡      0  06月04日 11:13 来自网页   \n",
       "4  沉醉 又 清醒 的 唱 着 ， 老 科恩 的 眼神 是 那 么 美好 ， 无公害 的 轻松 风      0  05月31日 12:27 来自网页   \n",
       "\n",
       "   comment_index  pred_polarity  \\\n",
       "0              0              1   \n",
       "1              0              0   \n",
       "2              0              0   \n",
       "3              0              0   \n",
       "4              0              1   \n",
       "\n",
       "                                                  ID location gender  \\\n",
       "0                                                NaN      NaN    NaN   \n",
       "1  https://weibo.com/p/1005052924656855/info?mod=...       上海      m   \n",
       "2  https://weibo.com/p/1005051069976075/info?mod=...    广东 广州      m   \n",
       "3  https://weibo.com/p/1005051915623992/info?mod=...    湖南 长沙      f   \n",
       "4  https://weibo.com/p/1005051562981417/info?mod=...    海外 其他      f   \n",
       "\n",
       "          dob                                     introduction tags  level  \\\n",
       "0         NaN                                              NaN  NaN    NaN   \n",
       "1  1926年8月16日                                              NaN  NaN  Lv.14   \n",
       "2         NaN                                              NaN   旅游  Lv.38   \n",
       "3         NaN                                   ٩꒰๑• ̫•๑꒱۶好好吃饭  NaN  Lv.39   \n",
       "4         NaN  2018优于过去的自己，而不是别人：愿歲月的錘打給她帶來豐滿的靈魂和清瘦的慾望。（她表妹說。）  NaN  Lv.25   \n",
       "\n",
       "   weibos  following  followers age  \n",
       "0     NaN        NaN        NaN   -  \n",
       "1  1310.0      885.0       56.0   -  \n",
       "2  5041.0      280.0      173.0   -  \n",
       "3   576.0      545.0      797.0   -  \n",
       "4   113.0      203.0       29.0   -  "
      ]
     },
     "execution_count": 1,
     "metadata": {},
     "output_type": "execute_result"
    }
   ],
   "source": [
    "import pandas as pd\n",
    "\n",
    "#import datasets of comments and commenters\n",
    "fc = pd.read_excel(r'C:\\\\Users\\\\romilda\\\\Desktop\\\\weibo scrapers\\\\pred_comments.xlsx')\n",
    "cmter = pd.read_excel(r'C:\\\\Users\\\\romilda\\\\Desktop\\\\weibo scrapers\\\\commenters.xlsx')\n",
    "#combine the tables \n",
    "fc = pd.merge(fc, cmter, on = 'username',how = 'left', suffixes=('', ''))\n",
    "\n",
    "#clean the table\n",
    "fc['gender'] = fc['gender'].replace('女','f').replace('男','m') #to convert genders into readable letters\n",
    "fc['age'] = '-'\n",
    "for index,row in fc.iterrows(): #to get the age of the user\n",
    "    if not pd.isnull(row['dob']):\n",
    "        if len(row['dob'])>4:\n",
    "            if row['dob'][4]=='年':\n",
    "                if 10 < 2018-int(row['dob'][:4]) < 70:\n",
    "                    fc.loc[index,'age'] = 2018-int(row['dob'][:4])\n",
    "fc.head()"
   ]
  },
  {
   "cell_type": "code",
   "execution_count": 2,
   "metadata": {},
   "outputs": [],
   "source": [
    "#divide the table by predicted emotions\n",
    "pos = fc[fc['pred_polarity']==1] #positive emotion\n",
    "neut = fc[fc['pred_polarity']==0] #neutral emotion\n",
    "neg = fc[fc['pred_polarity']==-1] #negative emotion"
   ]
  },
  {
   "cell_type": "code",
   "execution_count": 7,
   "metadata": {},
   "outputs": [],
   "source": [
    "#calculate the fraction of females who leave certain emotion of reviews\n",
    "def female_fraction(dataset):\n",
    "    num_female = dataset['gender'].value_counts()['f']\n",
    "    num_male = dataset['gender'].value_counts()['m']\n",
    "    result = num_female/(num_female+num_male)\n",
    "    return result    \n",
    "\n",
    "#calculate the average age of users who leave certain emotion of reviews\n",
    "def avr_age(dataset):\n",
    "    i = 0\n",
    "    sum_ = 0\n",
    "    for index,row in dataset.iterrows():\n",
    "        if row['age']!='-':\n",
    "            i = i + 1\n",
    "            sum_ = sum_ + row['age']\n",
    "    return sum_/i\n",
    "\n",
    "def avr_weibos(dataset):\n",
    "    result = dataset['weibos'].mean()\n",
    "    return result"
   ]
  },
  {
   "cell_type": "code",
   "execution_count": 5,
   "metadata": {},
   "outputs": [
    {
     "name": "stdout",
     "output_type": "stream",
     "text": [
      "0.8195652173913044\n",
      "0.8066914498141264\n",
      "0.8186274509803921\n",
      "25.592\n",
      "23.96\n",
      "24.793478260869566\n"
     ]
    }
   ],
   "source": [
    "#to show the fraction of female users who leave certain emotion of reviews\n",
    "print(female_fraction(pos))\n",
    "print(female_fraction(neut))\n",
    "print(female_fraction(neg))\n",
    "#to show the average age of users who leave certain emotion of reviews\n",
    "print(avr_age(pos))\n",
    "print(avr_age(neut))\n",
    "print(avr_age(neg))"
   ]
  },
  {
   "cell_type": "code",
   "execution_count": 11,
   "metadata": {},
   "outputs": [
    {
     "name": "stdout",
     "output_type": "stream",
     "text": [
      "8332.7\n",
      "7046.934324659232\n",
      "10136.11330049261\n"
     ]
    }
   ],
   "source": [
    "#to show the average number of weibos\n",
    "print(pos['weibos'].mean())\n",
    "print(neut['weibos'].mean())\n",
    "print(neg['weibos'].mean())"
   ]
  },
  {
   "cell_type": "code",
   "execution_count": 12,
   "metadata": {},
   "outputs": [
    {
     "name": "stdout",
     "output_type": "stream",
     "text": [
      "359.6\n",
      "334.64188351920694\n",
      "372.7881773399015\n"
     ]
    }
   ],
   "source": [
    "#to show the average number of following weibos\n",
    "print(pos['following'].mean())\n",
    "print(neut['following'].mean())\n",
    "print(neg['following'].mean())"
   ]
  },
  {
   "cell_type": "code",
   "execution_count": 13,
   "metadata": {},
   "outputs": [
    {
     "name": "stdout",
     "output_type": "stream",
     "text": [
      "548.0695652173913\n",
      "428.15861214374223\n",
      "590.4630541871921\n"
     ]
    }
   ],
   "source": [
    "#to show the average number of followers\n",
    "print(pos['followers'].mean())\n",
    "print(neut['followers'].mean())\n",
    "print(neg['followers'].mean())"
   ]
  },
  {
   "cell_type": "code",
   "execution_count": 16,
   "metadata": {},
   "outputs": [
    {
     "name": "stdout",
     "output_type": "stream",
     "text": [
      "556\n",
      "930\n",
      "268\n"
     ]
    }
   ],
   "source": [
    "print(len(pos))\n",
    "print(len(neut))\n",
    "print(len(neg))"
   ]
  },
  {
   "cell_type": "code",
   "execution_count": 23,
   "metadata": {},
   "outputs": [],
   "source": [
    "wb_ = []\n",
    "for i in range(0,10):\n",
    "    #print('For the weibo {}:'.format(i))\n",
    "    wb_.append(fc[fc['comment_index']==i] )\n",
    "    #print(len(wb_1[wb_1['pred_polarity']==1]))\n",
    "    #print(len(wb_1[wb_1['pred_polarity']==0]))\n",
    "    #print(len(wb_1[wb_1['pred_polarity']==1]))"
   ]
  },
  {
   "cell_type": "code",
   "execution_count": 31,
   "metadata": {
    "scrolled": true
   },
   "outputs": [
    {
     "name": "stdout",
     "output_type": "stream",
     "text": [
      "7\n",
      "0.5\n",
      "0.55\n",
      "0.75\n",
      "8\n",
      "0.7058823529411765\n",
      "0.6\n",
      "0.8\n",
      "9\n",
      "0.9090909090909091\n",
      "0.9378531073446328\n",
      "0.8823529411764706\n"
     ]
    }
   ],
   "source": [
    "for i in range(0,10):\n",
    "    temp = wb_[i]\n",
    "    print(i)\n",
    "    print(female_fraction(temp[temp['pred_polarity']==1]))\n",
    "    print(female_fraction(temp[temp['pred_polarity']==0]))\n",
    "    print(female_fraction(temp[temp['pred_polarity']==-1]))"
   ]
  },
  {
   "cell_type": "code",
   "execution_count": 33,
   "metadata": {},
   "outputs": [
    {
     "name": "stdout",
     "output_type": "stream",
     "text": [
      "8\n",
      "27.666666666666668\n",
      "22.384615384615383\n",
      "20.5\n",
      "9\n",
      "25.17391304347826\n",
      "23.644444444444446\n",
      "24.636363636363637\n"
     ]
    }
   ],
   "source": [
    "for i in range(8,10):\n",
    "    temp = wb_[i]\n",
    "    print(i)\n",
    "    print(avr_age(temp[temp['pred_polarity']==1]))\n",
    "    print(avr_age(temp[temp['pred_polarity']==0]))\n",
    "    print(avr_age(temp[temp['pred_polarity']==-1]))"
   ]
  },
  {
   "cell_type": "code",
   "execution_count": 35,
   "metadata": {
    "scrolled": true
   },
   "outputs": [
    {
     "name": "stdout",
     "output_type": "stream",
     "text": [
      "0\n",
      "1479.111111111111\n",
      "1822.04\n",
      "1246.3333333333333\n",
      "1\n",
      "10224.963636363636\n",
      "12495.074074074075\n",
      "13955.796875\n",
      "2\n",
      "11938.068965517241\n",
      "16100.686274509804\n",
      "9636.3125\n",
      "3\n",
      "2106.841584158416\n",
      "3456.864077669903\n",
      "1729.0\n",
      "4\n",
      "3073.377551020408\n",
      "3179.612244897959\n",
      "2221.15\n",
      "5\n",
      "2804.8541666666665\n",
      "3771.6623376623374\n",
      "3815.4\n",
      "6\n",
      "32309.102564102563\n",
      "16522.455445544554\n",
      "14710.0\n",
      "7\n",
      "23715.4\n",
      "3126.6\n",
      "41117.5\n",
      "8\n",
      "1612.8823529411766\n",
      "1027.64\n",
      "18147.2\n",
      "9\n",
      "11380.818181818182\n",
      "5295.0282485875705\n",
      "20699.235294117647\n"
     ]
    }
   ],
   "source": [
    "for i in range(0,10):\n",
    "    temp = wb_[i]\n",
    "    print(i)\n",
    "    print(temp[temp['pred_polarity']==1]['weibos'].mean())\n",
    "    print(temp[temp['pred_polarity']==0]['weibos'].mean())\n",
    "    print(temp[temp['pred_polarity']==-1]['weibos'].mean())"
   ]
  },
  {
   "cell_type": "code",
   "execution_count": 36,
   "metadata": {
    "scrolled": true
   },
   "outputs": [
    {
     "name": "stdout",
     "output_type": "stream",
     "text": [
      "0\n",
      "252.44444444444446\n",
      "348.92\n",
      "526.6666666666666\n",
      "1\n",
      "271.2\n",
      "360.037037037037\n",
      "346.296875\n",
      "2\n",
      "238.13793103448276\n",
      "403.37254901960785\n",
      "276.375\n",
      "3\n",
      "277.16831683168317\n",
      "315.3398058252427\n",
      "235.6153846153846\n",
      "4\n",
      "240.05102040816325\n",
      "322.80272108843536\n",
      "233.25\n",
      "5\n",
      "216.54166666666666\n",
      "295.6363636363636\n",
      "570.4666666666667\n",
      "6\n",
      "501.20512820512823\n",
      "373.0693069306931\n",
      "354.875\n",
      "7\n",
      "2043.45\n",
      "1194.7\n",
      "2935.5\n",
      "8\n",
      "332.70588235294116\n",
      "211.88\n",
      "322.9\n",
      "9\n",
      "303.1136363636364\n",
      "237.4632768361582\n",
      "334.5882352941176\n"
     ]
    }
   ],
   "source": [
    "for i in range(0,10):\n",
    "    temp = wb_[i]\n",
    "    print(i)\n",
    "    print(temp[temp['pred_polarity']==1]['following'].mean())\n",
    "    print(temp[temp['pred_polarity']==0]['following'].mean())\n",
    "    print(temp[temp['pred_polarity']==-1]['following'].mean())"
   ]
  },
  {
   "cell_type": "code",
   "execution_count": 37,
   "metadata": {},
   "outputs": [
    {
     "name": "stdout",
     "output_type": "stream",
     "text": [
      "0\n",
      "348.3333333333333\n",
      "323.52\n",
      "266.6666666666667\n",
      "1\n",
      "733.4545454545455\n",
      "629.1234567901234\n",
      "884.53125\n",
      "2\n",
      "230.86206896551724\n",
      "348.2156862745098\n",
      "506.25\n",
      "3\n",
      "680.8415841584158\n",
      "955.6893203883495\n",
      "284.11538461538464\n",
      "4\n",
      "255.3265306122449\n",
      "423.5578231292517\n",
      "289.775\n",
      "5\n",
      "245.70833333333334\n",
      "458.7142857142857\n",
      "215.06666666666666\n",
      "6\n",
      "661.5641025641025\n",
      "236.76237623762376\n",
      "554.875\n",
      "7\n",
      "1391.1\n",
      "412.05\n",
      "863.75\n",
      "8\n",
      "295.3529411764706\n",
      "140.44\n",
      "1828.7\n",
      "9\n",
      "857.2045454545455\n",
      "209.22598870056498\n",
      "351.11764705882354\n"
     ]
    }
   ],
   "source": [
    "for i in range(0,10):\n",
    "    temp = wb_[i]\n",
    "    print(i)\n",
    "    print(temp[temp['pred_polarity']==1]['followers'].mean())\n",
    "    print(temp[temp['pred_polarity']==0]['followers'].mean())\n",
    "    print(temp[temp['pred_polarity']==-1]['followers'].mean())"
   ]
  },
  {
   "cell_type": "code",
   "execution_count": 38,
   "metadata": {},
   "outputs": [
    {
     "data": {
      "text/plain": [
       "0.8123725356900068"
      ]
     },
     "execution_count": 38,
     "metadata": {},
     "output_type": "execute_result"
    }
   ],
   "source": [
    "female_fraction(fc)"
   ]
  },
  {
   "cell_type": "code",
   "execution_count": 39,
   "metadata": {},
   "outputs": [
    {
     "data": {
      "text/plain": [
       "7875.883673469388"
      ]
     },
     "execution_count": 39,
     "metadata": {},
     "output_type": "execute_result"
    }
   ],
   "source": [
    "fc['weibos'].mean()"
   ]
  },
  {
   "cell_type": "code",
   "execution_count": null,
   "metadata": {},
   "outputs": [],
   "source": []
  },
  {
   "cell_type": "code",
   "execution_count": null,
   "metadata": {},
   "outputs": [],
   "source": []
  },
  {
   "cell_type": "code",
   "execution_count": null,
   "metadata": {},
   "outputs": [],
   "source": []
  }
 ],
 "metadata": {
  "kernelspec": {
   "display_name": "Python 3",
   "language": "python",
   "name": "python3"
  },
  "language_info": {
   "codemirror_mode": {
    "name": "ipython",
    "version": 3
   },
   "file_extension": ".py",
   "mimetype": "text/x-python",
   "name": "python",
   "nbconvert_exporter": "python",
   "pygments_lexer": "ipython3",
   "version": "3.6.6"
  }
 },
 "nbformat": 4,
 "nbformat_minor": 2
}
